{
 "cells": [
  {
   "cell_type": "markdown",
   "metadata": {
    "id": "h8yY3PTg9Ce3"
   },
   "source": [
    "Data Increase + Batch normalization + Dropout + Stochastic Depth"
   ]
  },
  {
   "cell_type": "markdown",
   "metadata": {
    "id": "O607_kDO4PZN"
   },
   "source": [
    "# Libraries"
   ]
  },
  {
   "cell_type": "code",
   "execution_count": 1,
   "metadata": {
    "colab": {
     "base_uri": "https://localhost:8080/"
    },
    "id": "2zZTEcBCSGql",
    "outputId": "115b51b6-ffc1-4870-c3d3-a4b0316c7138"
   },
   "outputs": [],
   "source": [
    "import torch\n",
    "import numpy as np\n",
    "import matplotlib.pyplot as plt\n",
    "import torch.nn as nn\n",
    "import torch.backends.cudnn as cudnn\n",
    "import torch.nn.functional as F\n",
    "from einops import rearrange\n",
    "\n",
    "import torch.optim\n",
    "import torch.utils.data\n",
    "#!pip install torchvision==0.11.1\n",
    "import torchvision.transforms as transforms\n",
    "import torchvision.datasets as datasets\n",
    "from torchsummary import summary\n",
    "import time"
   ]
  },
  {
   "cell_type": "markdown",
   "metadata": {
    "id": "SYOIypWK4U9f"
   },
   "source": [
    "# Datasets"
   ]
  },
  {
   "cell_type": "code",
   "execution_count": 2,
   "metadata": {
    "id": "Xme9idclKTlZ"
   },
   "outputs": [],
   "source": [
    "from timm.models.layers import DropPath"
   ]
  },
  {
   "cell_type": "code",
   "execution_count": 3,
   "metadata": {
    "id": "xO0N7azqSKm0"
   },
   "outputs": [],
   "source": [
    "PATH=\"datasets\""
   ]
  },
  {
   "cell_type": "code",
   "execution_count": 80,
   "metadata": {},
   "outputs": [],
   "source": [
    "class Cluster(nn.Module):\n",
    "    def __init__(self,in_channels,out_channels,heads,head_dim,proposal_w=2,proposal_h=2,fold_w=2,fold_h=2):\n",
    "        super().__init__()\n",
    "        \n",
    "        self.heads = heads\n",
    "        self.head_dim = head_dim\n",
    "        self.fold_w = fold_w\n",
    "        self.fold_h = fold_h\n",
    "        \n",
    "        self.fc1 = nn.Conv2d(in_channels,heads*head_dim,kernel_size = 1)\n",
    "            #heads*head_dim -> we place the heads in the batch later\n",
    "        self.fcv = nn.Conv2d(in_channels,heads*head_dim,kernel_size = 1)\n",
    "        self.fc2 = nn.Conv2d(heads*head_dim,out_channels,kernel_size = 1)\n",
    "        self.center_proposal = nn.AdaptiveAvgPool2d((proposal_w,proposal_h))\n",
    "        \n",
    "        self.alpha = nn.Parameter(torch.ones(1)) #initialisation bizarre\n",
    "        self.beta = nn.Parameter(torch.zeros(1)) #initialisation bizarre\n",
    "        \n",
    "    def forward(self,x,getmask = False):\n",
    "        \"\"\"\n",
    "        x : [b,c,h,w]\n",
    "        \"\"\"\n",
    "        _,_,h,w = x.shape \n",
    "        \n",
    "        val = self.fcv(x)\n",
    "        x = self.fc1(x)\n",
    "\n",
    "        # separating heads\n",
    "        x = rearrange(x, \"b (e c) h w -> (b e) c h w\", e=self.heads)\n",
    "        val = rearrange(val, \"b (e c) h w -> (b e) c h w\", e=self.heads) \n",
    "        \n",
    "        #splitting patches \n",
    "        if self.fold_w>1 and self.fold_h>1:\n",
    "            assert w%self.fold_w==0 and h%self.fold_h==0\n",
    "            x = rearrange(x, \"b c (f1 h) (f2 w) -> (b f1 f2) c h w\", f1=self.fold_h, f2=self.fold_w)\n",
    "            val = rearrange(val, \"b c (f1 h) (f2 w) -> (b f1 f2) c h w\", f1=self.fold_h, f2=self.fold_w)\n",
    "        _,_,h,w = x.shape\n",
    "        #computing cluster centers\n",
    "        cluster_centers = self.center_proposal(x) #(b,c,Cw,Ch)\n",
    "        center_values = rearrange(self.center_proposal(val) , 'b c h w -> b (h w) c') #(b,Cw*Ch,c) = (b,m,c)\n",
    "        \n",
    "        b,c,_,_ = cluster_centers.shape\n",
    "\n",
    "        #computing similarity\n",
    "        sim = torch.sigmoid(self.beta + self.alpha*pairwise_cosine_sim(cluster_centers.reshape(b,c,-1).permute(0,2,1), x.reshape(b,c,-1).permute(0,2,1))) #(b,Cw*Ch,h*w) = (b,m,n)\n",
    "        sim_max, sim_argmax = sim.max(dim = 1, keepdim = True)\n",
    "        \n",
    "        #assigning a cluster to each point\n",
    "        mask = torch.zeros_like(sim) #(b,m,n)\n",
    "        mask.scatter_(1, sim_argmax, 1.)\n",
    "        sim= sim*mask\n",
    "        \n",
    "        #computing aggregated feature\n",
    "        val = rearrange(val, 'b c h w -> b (h w) c')\n",
    "        out = ((val.unsqueeze(dim=1)*sim.unsqueeze(dim=-1)).sum(dim=2) + center_values)/(mask.sum(dim=-1,keepdim=True)+ 1)\n",
    "        \n",
    "        out = (out.unsqueeze(dim=2)*sim.unsqueeze(dim=-1)).sum(dim=1)\n",
    "        out = rearrange(out, \"b (h w) c -> b c h w\", h=h)\n",
    "        \n",
    "        #recovering splitted patches\n",
    "        if self.fold_w>1 and self.fold_h>1:\n",
    "            out = rearrange(out, \"(b f1 f2) c h w -> b c (f1 h) (f2 w)\", f1=self.fold_h, f2=self.fold_w)\n",
    "        \n",
    "        #regrouping heads\n",
    "        out = rearrange(out, \"(b e) c h w -> b (e c) h w\", e=self.heads)\n",
    "        out = self.fc2(out)\n",
    "\n",
    "        if getmask : return out,mask\n",
    "        return out"
   ]
  },
  {
   "cell_type": "markdown",
   "metadata": {
    "id": "boLFzq2Z4cfZ"
   },
   "source": [
    "# Model"
   ]
  },
  {
   "cell_type": "code",
   "execution_count": 455,
   "metadata": {
    "id": "3dNBlrhESMTE"
   },
   "outputs": [],
   "source": [
    "def imgs_to_SoP(imgs):\n",
    "    shape = imgs.shape\n",
    "    height = shape[-2]\n",
    "    width = shape[-1]\n",
    "    batch = shape[0]\n",
    "    \n",
    "    ind_w = torch.arange(width)/(width-1)-0.5\n",
    "    ind_h = torch.arange(height)/(height-1)-0.5\n",
    "    ind = torch.stack(torch.meshgrid(ind_w,ind_h,indexing = 'ij'),dim = -1).reshape(2,height,width)\n",
    "    \n",
    "    batch_ind = ind.repeat(batch,1,1,1)\n",
    "    #flat_imgs = imgs.flatten(start_dim=len(shape)-2) #laisser en b c h w ?\n",
    "    \n",
    "    SoP = torch.cat((imgs,batch_ind),dim=1)\n",
    "    \n",
    "    return SoP"
   ]
  },
  {
   "cell_type": "code",
   "execution_count": 456,
   "metadata": {
    "id": "Hp3KHgwT9PQo"
   },
   "outputs": [],
   "source": [
    "class GroupNorm(nn.GroupNorm):\n",
    "    \"\"\"\n",
    "    Group Normalization with 1 group.\n",
    "    Input: tensor in shape [B, C, H, W]\n",
    "    \"\"\"\n",
    "    def __init__(self, num_channels, **kwargs):\n",
    "        super().__init__(1, num_channels, **kwargs)"
   ]
  },
  {
   "cell_type": "code",
   "execution_count": 457,
   "metadata": {
    "id": "0oxyFOcMYCBq"
   },
   "outputs": [],
   "source": [
    "class PointReducer(nn.Module):\n",
    "    def __init__(self, in_chan, out_chan, kernel_size=2, stride=2, norm_layer=None):\n",
    "        super().__init__()\n",
    "        self.conv2d = nn.Conv2d(in_chan, out_chan, kernel_size, stride)\n",
    "        self.norm = norm_layer(out_chan) if norm_layer else nn.Identity()\n",
    "\n",
    "    def forward(self,input):\n",
    "        out = self.conv2d(input)\n",
    "        out = self.norm(out)\n",
    "        return out"
   ]
  },
  {
   "cell_type": "code",
   "execution_count": 458,
   "metadata": {
    "id": "s9srBkQjKTlb"
   },
   "outputs": [],
   "source": [
    "def pairwise_cosine_sim(x1, x2):\n",
    "    x1_norm = F.normalize(x1, dim=-1) \n",
    "    x2_norm = F.normalize(x2, dim=-1)\n",
    "    \n",
    "    sim = x1_norm @ x2_norm.transpose(-2,-1) #to compute for each pair in the batch\n",
    "    \n",
    "    return sim"
   ]
  },
  {
   "cell_type": "code",
   "execution_count": 459,
   "metadata": {
    "id": "N46dU3RpKTlb"
   },
   "outputs": [],
   "source": [
    "class Cluster(nn.Module):\n",
    "    def __init__(self,in_channels,out_channels,heads,head_dim,proposal_w=2,proposal_h=2,fold_w=2,fold_h=2):\n",
    "        super().__init__()\n",
    "        \n",
    "        self.heads = heads\n",
    "        self.head_dim = head_dim\n",
    "        self.fold_w = fold_w\n",
    "        self.fold_h = fold_h\n",
    "        \n",
    "        self.fc1 = nn.Conv2d(in_channels,heads*head_dim,kernel_size = 1)\n",
    "            #heads*head_dim -> we place the heads in the batch later\n",
    "        self.fcv = nn.Conv2d(in_channels,heads*head_dim,kernel_size = 1)\n",
    "        self.fc2 = nn.Conv2d(heads*head_dim,out_channels,kernel_size = 1)\n",
    "        self.center_proposal = nn.AdaptiveAvgPool2d((proposal_w,proposal_h))\n",
    "        \n",
    "        self.alpha = nn.Parameter(torch.ones(1)) #initialisation bizarre\n",
    "        self.beta = nn.Parameter(torch.zeros(1)) #initialisation bizarre\n",
    "        \n",
    "    def forward(self,x,getmask = False):\n",
    "        \"\"\"\n",
    "        x : [b,c,h,w]\n",
    "        \"\"\"\n",
    "        _,_,h,w = x.shape \n",
    "        val = self.fcv(x)\n",
    "        x = self.fc1(x)\n",
    "\n",
    "        # separating heads\n",
    "        x = rearrange(x, \"b (e c) h w -> (b e) c h w\", e=self.heads)\n",
    "        val = rearrange(val, \"b (e c) h w -> (b e) c h w\", e=self.heads) \n",
    "        \n",
    "        #splitting patches \n",
    "        if self.fold_w>1 and self.fold_h>1:\n",
    "            assert w%self.fold_w==0 and h%self.fold_h==0\n",
    "            x = rearrange(x, \"b c (f1 h) (f2 w) -> (b f1 f2) c h w\", f1=self.fold_h, f2=self.fold_w)\n",
    "            val = rearrange(val, \"b c (f1 h) (f2 w) -> (b f1 f2) c h w\", f1=self.fold_h, f2=self.fold_w)\n",
    "        _,_,h,w = x.shape\n",
    "        #computing cluster centers\n",
    "        cluster_centers = self.center_proposal(x) #(b,c,Cw,Ch)\n",
    "        center_values = rearrange(self.center_proposal(val) , 'b c h w -> b (h w) c') #(b,Cw*Ch,c) = (b,m,c)\n",
    "        \n",
    "        b,c,_,_ = cluster_centers.shape\n",
    "\n",
    "        #computing similarity\n",
    "        sim = torch.sigmoid(self.beta + self.alpha*pairwise_cosine_sim(cluster_centers.reshape(b,c,-1).permute(0,2,1), x.reshape(b,c,-1).permute(0,2,1))) #(b,Cw*Ch,h*w) = (b,m,n)\n",
    "        sim_max, sim_argmax = sim.max(dim = 1, keepdim = True)\n",
    "        \n",
    "        #assigning a cluster to each point\n",
    "        mask = torch.zeros_like(sim) #(b,m,n)\n",
    "        mask.scatter_(1, sim_argmax, 1.)\n",
    "        sim= sim*mask\n",
    "\n",
    "        \n",
    "        #computing aggregated feature\n",
    "        val = rearrange(val, 'b c h w -> b (h w) c')\n",
    "        out = ((val.unsqueeze(dim=1)*sim.unsqueeze(dim=-1)).sum(dim=2) + center_values)/(mask.sum(dim=-1,keepdim=True)+ 1)\n",
    "        \n",
    "        out = (out.unsqueeze(dim=2)*sim.unsqueeze(dim=-1)).sum(dim=1)\n",
    "        out = rearrange(out, \"b (h w) c -> b c h w\", h=h)\n",
    "        mask = rearrange(mask,'b m (h w) -> b m h w',h=h)\n",
    "\n",
    "        #recovering splitted patches\n",
    "        if self.fold_w>1 and self.fold_h>1:\n",
    "            out = rearrange(out, \"(b f1 f2) c h w -> b c (f1 h) (f2 w)\", f1=self.fold_h, f2=self.fold_w)\n",
    "            mask = rearrange(mask,\"(b f1 f2) m h w -> b m (f1 h) (f2 w)\", f1=self.fold_h, f2=self.fold_w)\n",
    "\n",
    "        #regrouping heads\n",
    "        out = rearrange(out, \"(b e) c h w -> b (e c) h w\", e=self.heads)\n",
    "        #mask = rearrange(mask,\"(b e) m h w -> b (e m) h w\", e=self.heads)\n",
    "        out = self.fc2(out)\n",
    "        \n",
    "        if getmask : return out,mask\n",
    "        return out"
   ]
  },
  {
   "cell_type": "code",
   "execution_count": 460,
   "metadata": {
    "id": "0Wmb6oGDKTlb"
   },
   "outputs": [],
   "source": [
    "class MLP(nn.Module):\n",
    "    def __init__(self,in_channels,hidden_channels,out_channels,act,dropout=0):\n",
    "        super().__init__()\n",
    "        \n",
    "        layers = [nn.Conv2d(in_channels,hidden_channels,kernel_size=1),act()]\n",
    "        if dropout:\n",
    "            layers.append(nn.Dropout(dropout))\n",
    "        layers += [nn.Conv2d(hidden_channels,out_channels,kernel_size=1),act()]\n",
    "        \n",
    "        self.net = nn.Sequential(*layers)\n",
    "        \n",
    "    def forward(self,x):\n",
    "        out = self.net(x)\n",
    "        return out"
   ]
  },
  {
   "cell_type": "code",
   "execution_count": 461,
   "metadata": {
    "id": "juYvuvRVKTlb"
   },
   "outputs": [],
   "source": [
    "#add droppath ???\n",
    "class ClusterBlock(nn.Module):\n",
    "    \n",
    "    def __init__(self,in_channels,act=nn.GELU,mlp_ratio=4,dropout=0,droppath=0,\n",
    "                 proposal_w=2,proposal_h=2,fold_w=2,fold_h=2,\n",
    "                 heads=4,head_dim=16,norm_layer=GroupNorm,ablation=False, getmask=False):\n",
    "        super().__init__()\n",
    "\n",
    "        #(in_channels,out_channels,heads,head_dim,proposal_w=2,proposal_h=2,fold_w=2,fold_h=2))\n",
    "        self.ablation = ablation\n",
    "        \n",
    "        if not ablation:\n",
    "            self.cluster = Cluster(in_channels,in_channels,heads,head_dim,proposal_w,proposal_h,fold_w,fold_h)\n",
    "        hidden_dim = int(mlp_ratio*in_channels)\n",
    "        self.mlp = MLP(in_channels,hidden_dim,in_channels,act,dropout=dropout)\n",
    "        self.norm1 = norm_layer(in_channels)\n",
    "        self.norm2 = norm_layer(in_channels)\n",
    "        \n",
    "        self.droppath = DropPath(droppath)\n",
    "        self.getmask = getmask\n",
    "        \n",
    "    def forward(self,x):\n",
    "        if not self.ablation:\n",
    "            x1 = self.cluster(self.norm1(x),getmask=self.getmask)\n",
    "            if self.getmask:\n",
    "                x1,mask = x1\n",
    "            x = x + self.droppath(x1) #skip conn\n",
    "        out = x + self.droppath(self.mlp(self.norm2(x))) #skip conn\n",
    "        if self.getmask : return out,mask\n",
    "        return out"
   ]
  },
  {
   "cell_type": "code",
   "execution_count": 462,
   "metadata": {
    "id": "CmzaSO23KTlc"
   },
   "outputs": [],
   "source": [
    "class BasicBlock(nn.Module):\n",
    "    def __init__(self,in_channels,out_channels,N=1,\n",
    "                 heads=4,head_dim=16,mlp_ratio=4,fold=2,\n",
    "                 norm_layer=GroupNorm,dropout=0,droppath=0,\n",
    "                 first_layer=False,ablation=False):\n",
    "        super().__init__()\n",
    "        self.red = not first_layer\n",
    "        if not first_layer:\n",
    "            self.point_red = PointReducer(in_channels,out_channels)\n",
    "        layers = []\n",
    "        for i in range(N-1):\n",
    "            layers.append(ClusterBlock(out_channels,heads=heads,head_dim=head_dim,mlp_ratio=mlp_ratio,norm_layer=norm_layer,dropout=dropout,droppath=droppath,fold_h=fold,fold_w=fold,ablation=ablation))\n",
    "        layers.append(ClusterBlock(out_channels,heads=heads,head_dim=head_dim,mlp_ratio=mlp_ratio,norm_layer=norm_layer,dropout=dropout,droppath=droppath,fold_h=fold,fold_w=fold,ablation=ablation,\n",
    "                                   getmask=True))\n",
    "        self.cluster_b = nn.Sequential(*layers)\n",
    "    \n",
    "    def forward(self,x):\n",
    "        if self.red:\n",
    "            x = self.point_red(x)\n",
    "        x,mask = self.cluster_b(x)\n",
    "        return x\n",
    "    \n",
    "    def getmask(self,x):\n",
    "        if self.red:\n",
    "            x = self.point_red(x)\n",
    "        x,mask = self.cluster_b(x)\n",
    "        return x,mask"
   ]
  },
  {
   "cell_type": "code",
   "execution_count": 463,
   "metadata": {
    "id": "wSDd__2hSReU"
   },
   "outputs": [],
   "source": [
    "class Model(nn.Module):\n",
    "    def __init__(self,embedding_sizes,num_classes,n_blocks=[1,1,1,1],head_counts=[4,4,4,4],head_dims=[16,16,16,16],\n",
    "                 mlp_ratios=[4,4,4,4],norm_layer=GroupNorm,dropout=0,droppath=0,ablation=False):\n",
    "        super().__init__()\n",
    "        layers = []\n",
    "        in_channels = 5\n",
    "        \n",
    "        #for out_channels in embedding_sizes:\n",
    "            #layers.append(BasicBlock(in_channels,out_channels,norm_layer=norm_layer,dropout=dropout))\n",
    "            #in_channels = out_channels\n",
    "\n",
    "        first_layer = True\n",
    "        for stage,out_channels in enumerate(embedding_sizes):\n",
    "            N = n_blocks[stage]\n",
    "            heads = head_counts[stage]\n",
    "            head_dim = head_dims[stage]\n",
    "            mlp_ratio= mlp_ratios[stage]\n",
    "            fold = folds[stage]\n",
    "            \n",
    "            layers.append(BasicBlock(in_channels,out_channels,N=N,heads=heads,head_dim=head_dim,mlp_ratio=mlp_ratio,\n",
    "                                     fold=fold,norm_layer=norm_layer,dropout=dropout,droppath=droppath,\n",
    "                                     first_layer=first_layer,ablation=ablation))\n",
    "            in_channels = out_channels\n",
    "            first_layer=False\n",
    "\n",
    "        \n",
    "        self.feature_extractor = nn.Sequential(*layers)\n",
    "        self.clf = nn.Linear(embedding_sizes[-1],num_classes)\n",
    "        self.old_shape = None\n",
    "        \n",
    "\n",
    "    def imgs_to_SoP(self,imgs):\n",
    "        \"\"\"\n",
    "        Transform a batch of images to a bacth of sets of points\n",
    "\n",
    "        imgs : torch.Tensor([batch,chan,height,width])\n",
    "        return : torch.Tensor([batch,chan+2,height*width])\n",
    "        \"\"\"\n",
    "        shape = imgs.shape\n",
    "        device = imgs.device\n",
    "        \n",
    "        if self.old_shape != shape:\n",
    "            self.old_shape = shape\n",
    "            height = shape[-2]\n",
    "            width = shape[-1]\n",
    "            batch = shape[0]\n",
    "            \n",
    "            ind_w = torch.arange(width)/(width-1)-0.5\n",
    "            ind_h = torch.arange(height)/(height-1)-0.5\n",
    "            ind = torch.stack(torch.meshgrid(ind_w,ind_h,indexing = 'ij'),dim = -1).reshape(2,height,width)\n",
    "\n",
    "            self.batch_ind = ind.repeat(batch,1,1,1).to(device)\n",
    "            \n",
    "        #flat_imgs = imgs.flatten(start_dim=len(shape)-2)\n",
    "        SoP = torch.cat((imgs,self.batch_ind),dim=1) #might need to clone\n",
    "        \n",
    "        return SoP\n",
    "\n",
    "    def forward(self,input):\n",
    "        SoP = self.imgs_to_SoP(input)\n",
    "        features = self.feature_extractor(SoP)\n",
    "        features = torch.mean(features, dim = (2,3))\n",
    "        yhat = self.clf(features)\n",
    "        return yhat\n",
    "    \n",
    "    def getmask(self,input):\n",
    "        SoP = self.imgs_to_SoP(input)\n",
    "        masks = []\n",
    "        for mod in self.feature_extractor:\n",
    "            SoP,mask = mod.getmask(SoP)\n",
    "            masks.append(mask.clone())\n",
    "        return input, masks"
   ]
  },
  {
   "cell_type": "markdown",
   "metadata": {
    "id": "B2rssAZLKTlc"
   },
   "source": [
    "# Tests"
   ]
  },
  {
   "cell_type": "code",
   "execution_count": 464,
   "metadata": {},
   "outputs": [],
   "source": [
    "n_blocks = [4,6,4]\n",
    "embedding_sizes = [5,32,128]\n",
    "head_counts = [4,4,8]\n",
    "head_dims = [16,16,16]\n",
    "mlp_ratios = [16,8,4]\n",
    "folds = [2,1,1]\n",
    "num_classes = 10\n",
    "device = 'cuda'\n",
    "model2 = Model(embedding_sizes,num_classes,n_blocks=n_blocks,head_counts=head_counts,head_dims=head_dims,mlp_ratios=mlp_ratios,dropout=0.5,droppath=0.2).to(device)\n",
    "#summary(model2,(3,32,32))"
   ]
  },
  {
   "cell_type": "code",
   "execution_count": 465,
   "metadata": {},
   "outputs": [],
   "source": [
    "model2.load_state_dict(torch.load(\"models\\model_super_small.pth\"))\n",
    "model2.eval()\n",
    "model2 = model2.to(device)"
   ]
  },
  {
   "cell_type": "code",
   "execution_count": 466,
   "metadata": {},
   "outputs": [
    {
     "name": "stdout",
     "output_type": "stream",
     "text": [
      "Files already downloaded and verified\n",
      "Files already downloaded and verified\n"
     ]
    }
   ],
   "source": [
    "test_dataset = datasets.CIFAR10(PATH, train=False, download=True,\n",
    "transform=transforms.Compose([\n",
    "    transforms.ToTensor (), # Transform the PIL image to a torch.Tensor\n",
    "    transforms.Normalize((0.485, 0.456, 0.406), (0.229, 0.224, 0.225)),\n",
    "]))\n",
    "\n",
    "img_dataset = datasets.CIFAR10(PATH, train=False, download=True,\n",
    "transform=transforms.Compose([\n",
    "    transforms.ToTensor (), # Transform the PIL image to a torch.Tensor\n",
    "]))"
   ]
  },
  {
   "cell_type": "code",
   "execution_count": 490,
   "metadata": {},
   "outputs": [],
   "source": [
    "def get_clustering_maps(model,idx,alpha=0.1):\n",
    "    up = torch.nn.Upsample(size=(32,32))\n",
    "\n",
    "    X,y = test_dataset.__getitem__(idx)\n",
    "    X = X.reshape(-1,3,32,32)\n",
    "    img,_ = img_dataset.__getitem__(idx)\n",
    "    img = img.reshape(-1,3,32,32)\n",
    "    X = X.to(device)\n",
    "    X.device\n",
    "    \n",
    "    inp,masks = model2.getmask(X)\n",
    "    \n",
    "    c1 = torch.randint(4,(1,))\n",
    "    c2 = torch.randint(4,(1,))\n",
    "    c3 = torch.randint(8,(1,))\n",
    "    \n",
    "    clusters=[]\n",
    "    for c,m in zip([c1,c2,c3],masks):\n",
    "        clusters.append(m[c])\n",
    "        \n",
    "    colors = []\n",
    "    for c in clusters:\n",
    "        colors.append(torch.argmax(c,dim=1))\n",
    "    title = \"Image source\"\n",
    "    plt.title(title)\n",
    "    plt.imshow(rearrange(img[0],'c h w -> h w c').cpu().numpy(),alpha= 1)\n",
    "    plt.show()\n",
    "    for i,c in enumerate(colors):\n",
    "        t = up((c[None]).float())\n",
    "        title = \"Clustering Map du Stage n°\"+str(i)\n",
    "        plt.title(title)\n",
    "        plt.imshow(rearrange(img[0],'c h w -> h w c').cpu().numpy(),alpha= 1)\n",
    "        plt.imshow(t.reshape(32,32).cpu().numpy(),alpha = alpha)\n",
    "        \n",
    "        plt.show()"
   ]
  },
  {
   "cell_type": "code",
   "execution_count": null,
   "metadata": {},
   "outputs": [],
   "source": []
  },
  {
   "cell_type": "code",
   "execution_count": 497,
   "metadata": {
    "scrolled": false
   },
   "outputs": [
    {
     "name": "stdout",
     "output_type": "stream",
     "text": [
      "tensor([5453])\n"
     ]
    },
    {
     "data": {
      "image/png": "[encoded data removed]",
      "text/plain": [
       "<Figure size 640x480 with 1 Axes>"
      ]
     },
     "metadata": {},
     "output_type": "display_data"
    },
    {
     "data": {
      "image/png": "[encoded data removed]",
      "text/plain": [
       "<Figure size 640x480 with 1 Axes>"
      ]
     },
     "metadata": {},
     "output_type": "display_data"
    },
    {
     "data": {
      "image/png": "[encoded data removed]",
      "text/plain": [
       "<Figure size 640x480 with 1 Axes>"
      ]
     },
     "metadata": {},
     "output_type": "display_data"
    },
    {
     "data": {
      "image/png": "[encoded data removed]",
      "text/plain": [
       "<Figure size 640x480 with 1 Axes>"
      ]
     },
     "metadata": {},
     "output_type": "display_data"
    }
   ],
   "source": [
    "idx = torch.randint(len(test_dataset),(1,))\n",
    "print(idx)\n",
    "get_clustering_maps(model2,idx,0.3)"
   ]
  },
  {
   "cell_type": "code",
   "execution_count": null,
   "metadata": {},
   "outputs": [],
   "source": []
  }
 ],
 "metadata": {
  "accelerator": "GPU",
  "colab": {
   "provenance": []
  },
  "gpuClass": "standard",
  "kernelspec": {
   "display_name": "Python 3 (ipykernel)",
   "language": "python",
   "name": "python3"
  },
  "language_info": {
   "codemirror_mode": {
    "name": "ipython",
    "version": 3
   },
   "file_extension": ".py",
   "mimetype": "text/x-python",
   "name": "python",
   "nbconvert_exporter": "python",
   "pygments_lexer": "ipython3",
   "version": "3.10.2"
  }
 },
 "nbformat": 4,
 "nbformat_minor": 1
}
