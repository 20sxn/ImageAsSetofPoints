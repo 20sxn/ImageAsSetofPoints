{
 "cells": [
  {
   "cell_type": "code",
   "execution_count": 1,
   "metadata": {
    "id": "2zZTEcBCSGql"
   },
   "outputs": [],
   "source": [
    "import torch\n",
    "import numpy as np\n",
    "import matplotlib.pyplot as plt\n",
    "import torch.nn as nn\n",
    "import torch.backends.cudnn as cudnn\n",
    "import torch.nn.functional as F\n",
    "from einops import rearrange\n",
    "\n",
    "import torch.optim\n",
    "import torch.utils.data\n",
    "import torchvision.transforms as transforms\n",
    "import torchvision.datasets as datasets"
   ]
  },
  {
   "cell_type": "code",
   "execution_count": null,
   "metadata": {},
   "outputs": [],
   "source": [
    "#from timm.models.layers import DropPath"
   ]
  },
  {
   "cell_type": "code",
   "execution_count": 2,
   "metadata": {
    "id": "xO0N7azqSKm0"
   },
   "outputs": [],
   "source": [
    "PATH=\"datasets\""
   ]
  },
  {
   "cell_type": "code",
   "execution_count": 288,
   "metadata": {
    "colab": {
     "base_uri": "https://localhost:8080/"
    },
    "id": "57F29DW6SNR8",
    "outputId": "634dab23-9d32-4667-c935-3ccbbd115aa2"
   },
   "outputs": [
    {
     "name": "stdout",
     "output_type": "stream",
     "text": [
      "Files already downloaded and verified\n"
     ]
    }
   ],
   "source": [
    "cuda = True\n",
    "batch_size = 64\n",
    "train_dataset = datasets.CIFAR10(PATH, train=True, download=True,\n",
    "    transform=transforms.Compose([\n",
    "        # Set of transformations to apply, we have as input a PIL image (Python \n",
    "        #Image Library). Refer to the PyTorch documentation in the torchvision.transforms package\n",
    "        transforms.ToTensor (), # Transform the PIL image to a torch.Tensor\n",
    "        transforms.Normalize((0.491, 0.482, 0.447), (0.202, 0.199, 0.201)),\n",
    "        #transforms.Lambda(imgs_to_SoP) #on l'utilise dans le reseau\n",
    "        \n",
    "        #transforms.RandomCrop(28),\n",
    "        #transforms.Pad(2)\n",
    "        #transforms.RandomHorizontalFlip(p=0.5)\n",
    "    ]))\n",
    "\n",
    "train_loader = torch.utils.data.DataLoader(train_dataset,\n",
    "                        batch_size=batch_size, shuffle=True, pin_memory=cuda, num_workers=2)"
   ]
  },
  {
   "cell_type": "code",
   "execution_count": 34,
   "metadata": {
    "id": "3dNBlrhESMTE"
   },
   "outputs": [],
   "source": [
    "def imgs_to_SoP(imgs):\n",
    "    shape = imgs.shape\n",
    "    height = shape[-2]\n",
    "    width = shape[-1]\n",
    "    batch = shape[0]\n",
    "    \n",
    "    ind_w = torch.arange(width)/(width-1)-0.5\n",
    "    ind_h = torch.arange(height)/(height-1)-0.5\n",
    "    ind = torch.stack(torch.meshgrid(ind_w,ind_h,indexing = 'ij'),dim = -1).reshape(2,height,width)\n",
    "    \n",
    "    batch_ind = ind.repeat(batch,1,1,1)\n",
    "    #flat_imgs = imgs.flatten(start_dim=len(shape)-2) #laisser en b c h w ?\n",
    "    \n",
    "    SoP = torch.cat((imgs,batch_ind),dim=1)\n",
    "    \n",
    "    return SoP"
   ]
  },
  {
   "cell_type": "code",
   "execution_count": 32,
   "metadata": {},
   "outputs": [
    {
     "data": {
      "text/plain": [
       "torch.Size([20, 2, 64, 32])"
      ]
     },
     "execution_count": 32,
     "metadata": {},
     "output_type": "execute_result"
    }
   ],
   "source": [
    "height = 64\n",
    "width = 32\n",
    "ind_w = torch.arange(width)/(width-1)-0.5\n",
    "ind_h = torch.arange(height)/(height-1)-0.5\n",
    "ind = torch.stack(torch.meshgrid(ind_w,ind_h,indexing = 'ij'),dim = -1).reshape(2,height,width)\n",
    "ind.repeat(20,1,1,1).shape\n"
   ]
  },
  {
   "cell_type": "code",
   "execution_count": 36,
   "metadata": {
    "colab": {
     "base_uri": "https://localhost:8080/"
    },
    "id": "6fIYWdFrTKeT",
    "outputId": "2b1257df-f717-4585-cb78-0e7ef0fac966"
   },
   "outputs": [
    {
     "name": "stdout",
     "output_type": "stream",
     "text": [
      "torch.Size([32, 3, 224, 122])\n",
      "torch.Size([32, 5, 224, 122])\n"
     ]
    }
   ],
   "source": [
    "#X,y = next(iter(train_loader))\n",
    "X = torch.randn(32,3,224,122)\n",
    "print(X.shape)\n",
    "print(imgs_to_SoP(X).shape)"
   ]
  },
  {
   "cell_type": "code",
   "execution_count": 39,
   "metadata": {
    "id": "0oxyFOcMYCBq"
   },
   "outputs": [],
   "source": [
    "class PointReducer(nn.Module):\n",
    "    def __init__(self,in_chan,out_chan,kernel_size=2,stride = 2):\n",
    "        super().__init__()\n",
    "        self.conv2d = nn.Conv2d(in_chan,out_chan,kernel_size,stride)\n",
    "    def forward(self,input):\n",
    "        return self.conv2d(input)"
   ]
  },
  {
   "cell_type": "code",
   "execution_count": 89,
   "metadata": {},
   "outputs": [],
   "source": [
    "def pairwise_cosine_sim(x1, x2):\n",
    "    x1_norm = F.normalize(x1, dim=-1) \n",
    "    x2_norm = F.normalize(x2, dim=-1)\n",
    "    \n",
    "    sim = x1_norm @ x2_norm.transpose(-2,-1) #to compute for each pair in the batch\n",
    "    \n",
    "    return sim"
   ]
  },
  {
   "cell_type": "code",
   "execution_count": 214,
   "metadata": {},
   "outputs": [],
   "source": [
    "class Cluster(nn.Module):\n",
    "    def __init__(self,in_channels,out_channels,heads,head_dim,proposal_w=2,proposal_h=2,fold_w=2,fold_h=2):\n",
    "        super().__init__()\n",
    "        \n",
    "        self.heads = heads\n",
    "        self.head_dim = head_dim\n",
    "        self.fold_w = fold_w\n",
    "        self.fold_h = fold_h\n",
    "        \n",
    "        self.fc1 = nn.Conv2d(in_channels,heads*head_dim,kernel_size = 1)\n",
    "            #heads*head_dim -> we place the heads in the batch later\n",
    "        self.fcv = nn.Conv2d(in_channels,heads*head_dim,kernel_size = 1)\n",
    "        self.fc2 = nn.Conv2d(heads*head_dim,out_channels,kernel_size = 1)\n",
    "        self.center_proposal = nn.AdaptiveAvgPool2d((proposal_w,proposal_h))\n",
    "        \n",
    "        self.alpha = nn.Parameter(torch.ones(1)) #initialisation bizarre\n",
    "        self.beta = nn.Parameter(torch.zeros(1)) #initialisation bizarre\n",
    "        \n",
    "    def forward(self,x):\n",
    "        \"\"\"\n",
    "        x : [b,c,h,w]\n",
    "        \"\"\"\n",
    "        _,_,h,w = x.shape \n",
    "        \n",
    "        val = self.fcv(x)\n",
    "        x = self.fc1(x)\n",
    "\n",
    "        # separating heads\n",
    "        x = rearrange(x, \"b (e c) h w -> (b e) c h w\", e=self.heads)\n",
    "        val = rearrange(val, \"b (e c) h w -> (b e) c h w\", e=self.heads) \n",
    "        \n",
    "        #splitting patches \n",
    "        if self.fold_w>1 and self.fold_h>1:\n",
    "            assert w%self.fold_w==0 and h%self.fold_h==0\n",
    "            x = rearrange(x, \"b c (f1 h) (f2 w) -> (b f1 f2) c h w\", f1=self.fold_h, f2=self.fold_w)\n",
    "            val = rearrange(val, \"b c (f1 h) (f2 w) -> (b f1 f2) c h w\", f1=self.fold_h, f2=self.fold_w)\n",
    "        _,_,h,w = x.shape\n",
    "        #computing cluster centers\n",
    "        cluster_centers = self.center_proposal(x) #(b,c,Cw,Ch)\n",
    "        center_values = rearrange(self.center_proposal(val) , 'b c h w -> b (h w) c') #(b,Cw*Ch,c) = (b,m,c)\n",
    "        \n",
    "        b,c,_,_ = cluster_centers.shape\n",
    "\n",
    "        #computing similarity\n",
    "        sim = torch.sigmoid(self.beta + self.alpha*pairwise_cosine_sim(cluster_centers.reshape(b,c,-1).permute(0,2,1), x.reshape(b,c,-1).permute(0,2,1))) #(b,Cw*Ch,h*w) = (b,m,n)\n",
    "        sim_max, sim_argmax = sim.max(dim = 1, keepdim = True)\n",
    "        \n",
    "        #assigning a cluster to each point\n",
    "        mask = torch.zeros_like(sim) #(b,m,n)\n",
    "        mask.scatter_(1, sim_argmax, 1.)\n",
    "        sim= sim*mask\n",
    "        \n",
    "        #computing aggregated feature\n",
    "        val = rearrange(val, 'b c h w -> b (h w) c')\n",
    "        out = ((val.unsqueeze(dim=1)*sim.unsqueeze(dim=-1)).sum(dim=2) + center_values)/(mask.sum(dim=-1,keepdim=True)+ 1)\n",
    "        \n",
    "        out = (out.unsqueeze(dim=2)*sim.unsqueeze(dim=-1)).sum(dim=1)\n",
    "        out = rearrange(out, \"b (h w) c -> b c h w\", h=h)\n",
    "        \n",
    "        #recovering splitted patches\n",
    "        if self.fold_w>1 and self.fold_h>1:\n",
    "            out = rearrange(out, \"(b f1 f2) c h w -> b c (f1 h) (f2 w)\", f1=self.fold_h, f2=self.fold_w)\n",
    "        \n",
    "        #regrouping heads\n",
    "        out = rearrange(out, \"(b e) c h w -> b (e c) h w\", e=self.heads)\n",
    "        out = self.fc2(out)\n",
    "\n",
    "        return out"
   ]
  },
  {
   "cell_type": "code",
   "execution_count": 215,
   "metadata": {},
   "outputs": [],
   "source": [
    "class MLP(nn.Module):\n",
    "    def __init__(self,in_channels,hidden_channels,out_channels,act,dropout=0):\n",
    "        super().__init__()\n",
    "        \n",
    "        layers = [nn.Conv2d(in_channels,hidden_channels,kernel_size=1),act(),\\\n",
    "                  nn.Conv2d(hidden_channels,out_channels,kernel_size=1),act()]\n",
    "        if dropout:\n",
    "            layers.append(nn.Dropout(dropout))\n",
    "        self.net = nn.Sequential(*layers)\n",
    "        \n",
    "    def forward(self,x):\n",
    "        out = self.net(x)\n",
    "        return out"
   ]
  },
  {
   "cell_type": "code",
   "execution_count": 223,
   "metadata": {},
   "outputs": [],
   "source": [
    "#add droppath ???\n",
    "class ClusterBlock(nn.Module):\n",
    "    \n",
    "    def __init__(self,in_channels,act=nn.GELU,mlp_ratio=4,dropout=0,proposal_w=2,proposal_h=2,fold_w=2,fold_h=2,heads=4,head_dim=16):\n",
    "        super().__init__()\n",
    "        \n",
    "        #(in_channels,out_channels,heads,head_dim,proposal_w=2,proposal_h=2,fold_w=2,fold_h=2))\n",
    "        self.cluster = Cluster(in_channels,in_channels,heads,head_dim,proposal_w,proposal_h,fold_w,fold_h)\n",
    "        hidden_dim = int(mlp_ratio*in_channels)\n",
    "        self.mlp = MLP(in_channels,hidden_dim,in_channels,act,dropout=dropout)\n",
    "        \n",
    "    def forward(self,x):\n",
    "        x = x + self.cluster(x) #skip conn\n",
    "        out = x + self.mlp(x) #skip conn\n",
    "        return out"
   ]
  },
  {
   "cell_type": "code",
   "execution_count": 264,
   "metadata": {},
   "outputs": [],
   "source": [
    "class BasicBlock(nn.Module):\n",
    "    def __init__(self,in_channels,out_channels):\n",
    "        super().__init__()\n",
    "        self.point_red = PointReducer(in_channels,out_channels)\n",
    "        self.cluster_b = ClusterBlock(out_channels)\n",
    "    \n",
    "    def forward(self,x):\n",
    "        x = self.point_red(x)\n",
    "        x = self.cluster_b(x)\n",
    "        return x"
   ]
  },
  {
   "cell_type": "code",
   "execution_count": 285,
   "metadata": {
    "id": "wSDd__2hSReU"
   },
   "outputs": [],
   "source": [
    "class Model(nn.Module):\n",
    "    def __init__(self):\n",
    "        super().__init__()\n",
    "        self.res = None #sequence of +(Point reducer, context cluster block)\n",
    "        self.old_shape = None\n",
    "\n",
    "    def imgs_to_SoP(self,imgs):\n",
    "        \"\"\"\n",
    "        Transform a batch of images to a bacth of sets of points\n",
    "\n",
    "        imgs : torch.Tensor([batch,chan,height,width])\n",
    "        return : torch.Tensor([batch,chan+2,height*width])\n",
    "        \"\"\"\n",
    "        shape = imgs.shape\n",
    "        if self.old_shape != shape:\n",
    "            self.old_shape = shape\n",
    "            height = shape[-2]\n",
    "            width = shape[-1]\n",
    "            batch = shape[0]\n",
    "            \n",
    "            ind_w = torch.arange(width)/(width-1)-0.5\n",
    "            ind_h = torch.arange(height)/(height-1)-0.5\n",
    "            ind = torch.stack(torch.meshgrid(ind_w,ind_h,indexing = 'ij'),dim = -1).reshape(2,height,width)\n",
    "\n",
    "            self.batch_ind = ind.repeat(batch,1,1,1)\n",
    "        \n",
    "        #flat_imgs = imgs.flatten(start_dim=len(shape)-2)\n",
    "        SoP = torch.cat((imgs,self.batch_ind),dim=1) #might need to clone\n",
    "        \n",
    "        return SoP\n",
    "\n",
    "    def forward(self,input):\n",
    "        SoP = self.imgs_to_SoP(input)\n",
    "\n",
    "        return SoP"
   ]
  },
  {
   "cell_type": "markdown",
   "metadata": {},
   "source": [
    "# Tests"
   ]
  },
  {
   "cell_type": "code",
   "execution_count": 265,
   "metadata": {},
   "outputs": [],
   "source": [
    "pr1 = PointReducer(5,16)\n",
    "cb1 = ClusterBlock(16)\n",
    "\n",
    "pr2 = PointReducer(16,32)\n",
    "cb2 = ClusterBlock(32)\n",
    "\n",
    "pr3 = PointReducer(32,64)\n",
    "cb3 = ClusterBlock(64)\n",
    "\n",
    "pr4 = PointReducer(64,128)\n",
    "cb4 = ClusterBlock(128)\n",
    "\n",
    "clf = nn.Linear(128,10)"
   ]
  },
  {
   "cell_type": "code",
   "execution_count": 266,
   "metadata": {},
   "outputs": [
    {
     "data": {
      "text/plain": [
       "torch.Size([32, 5, 64, 128])"
      ]
     },
     "execution_count": 266,
     "metadata": {},
     "output_type": "execute_result"
    }
   ],
   "source": [
    "X = torch.randn(32,3,64,128)\n",
    "X = imgs_to_SoP(X)\n",
    "X.shape"
   ]
  },
  {
   "cell_type": "code",
   "execution_count": 267,
   "metadata": {},
   "outputs": [
    {
     "name": "stdout",
     "output_type": "stream",
     "text": [
      "torch.Size([32, 16, 32, 64])\n",
      "torch.Size([32, 16, 32, 64])\n"
     ]
    }
   ],
   "source": [
    "X = pr1(X)\n",
    "print(X.shape)\n",
    "X = cb1(X)\n",
    "print(X.shape)"
   ]
  },
  {
   "cell_type": "code",
   "execution_count": 268,
   "metadata": {},
   "outputs": [
    {
     "name": "stdout",
     "output_type": "stream",
     "text": [
      "torch.Size([32, 32, 16, 32])\n",
      "torch.Size([32, 32, 16, 32])\n"
     ]
    }
   ],
   "source": [
    "X = pr2(X)\n",
    "print(X.shape)\n",
    "X = cb2(X)\n",
    "print(X.shape)"
   ]
  },
  {
   "cell_type": "code",
   "execution_count": 269,
   "metadata": {},
   "outputs": [
    {
     "name": "stdout",
     "output_type": "stream",
     "text": [
      "torch.Size([32, 64, 8, 16])\n",
      "torch.Size([32, 64, 8, 16])\n"
     ]
    }
   ],
   "source": [
    "X = pr3(X)\n",
    "print(X.shape)\n",
    "X = cb3(X)\n",
    "print(X.shape)"
   ]
  },
  {
   "cell_type": "code",
   "execution_count": 270,
   "metadata": {},
   "outputs": [
    {
     "name": "stdout",
     "output_type": "stream",
     "text": [
      "torch.Size([32, 128, 4, 8])\n",
      "torch.Size([32, 128, 4, 8])\n"
     ]
    }
   ],
   "source": [
    "X = pr4(X)\n",
    "print(X.shape)\n",
    "X = cb4(X)\n",
    "print(X.shape)"
   ]
  },
  {
   "cell_type": "code",
   "execution_count": 271,
   "metadata": {},
   "outputs": [
    {
     "data": {
      "text/plain": [
       "torch.Size([32, 128])"
      ]
     },
     "execution_count": 271,
     "metadata": {},
     "output_type": "execute_result"
    }
   ],
   "source": [
    "X = torch.mean(X, dim = (2,3))\n",
    "X.shape"
   ]
  },
  {
   "cell_type": "code",
   "execution_count": 272,
   "metadata": {},
   "outputs": [
    {
     "data": {
      "text/plain": [
       "torch.Size([32, 10])"
      ]
     },
     "execution_count": 272,
     "metadata": {},
     "output_type": "execute_result"
    }
   ],
   "source": [
    "y = clf(X)\n",
    "y.shape"
   ]
  },
  {
   "cell_type": "markdown",
   "metadata": {},
   "source": [
    "# Tests Basic Blocks"
   ]
  },
  {
   "cell_type": "code",
   "execution_count": 274,
   "metadata": {},
   "outputs": [],
   "source": [
    "b1 = BasicBlock(5,16)\n",
    "b2 = BasicBlock(16,32)\n",
    "b3 = BasicBlock(32,64)\n",
    "b4 = BasicBlock(64,128)\n",
    "clf = nn.Linear(128,10)"
   ]
  },
  {
   "cell_type": "code",
   "execution_count": 275,
   "metadata": {},
   "outputs": [
    {
     "name": "stdout",
     "output_type": "stream",
     "text": [
      "torch.Size([32, 10])\n"
     ]
    }
   ],
   "source": [
    "X = torch.randn(32,3,64,128)\n",
    "X = imgs_to_SoP(X)\n",
    "\n",
    "X = b1(X)\n",
    "X = b2(X)\n",
    "X = b3(X)\n",
    "X = b4(X)\n",
    "\n",
    "X = torch.mean(X, dim = (2,3))\n",
    "\n",
    "y = clf(X)\n",
    "print(y.shape)"
   ]
  },
  {
   "cell_type": "code",
   "execution_count": null,
   "metadata": {},
   "outputs": [],
   "source": []
  },
  {
   "cell_type": "code",
   "execution_count": null,
   "metadata": {},
   "outputs": [],
   "source": []
  }
 ],
 "metadata": {
  "colab": {
   "provenance": []
  },
  "kernelspec": {
   "display_name": "Python 3 (ipykernel)",
   "language": "python",
   "name": "python3"
  },
  "language_info": {
   "codemirror_mode": {
    "name": "ipython",
    "version": 3
   },
   "file_extension": ".py",
   "mimetype": "text/x-python",
   "name": "python",
   "nbconvert_exporter": "python",
   "pygments_lexer": "ipython3",
   "version": "3.10.2"
  }
 },
 "nbformat": 4,
 "nbformat_minor": 1
}
