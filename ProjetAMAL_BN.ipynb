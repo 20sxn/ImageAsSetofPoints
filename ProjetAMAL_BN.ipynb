{
  "cells": [
    {
      "cell_type": "markdown",
      "source": [
        "Adding batch normalization (everywhere, just like in the original source code)."
      ],
      "metadata": {
        "id": "h8yY3PTg9Ce3"
      }
    },
    {
      "cell_type": "markdown",
      "source": [
        "# Libraries"
      ],
      "metadata": {
        "id": "O607_kDO4PZN"
      }
    },
    {
      "cell_type": "code",
      "execution_count": 10,
      "metadata": {
        "id": "2zZTEcBCSGql",
        "colab": {
          "base_uri": "https://localhost:8080/"
        },
        "outputId": "89a0380c-2697-4380-f4ae-16307b8a5be7"
      },
      "outputs": [
        {
          "output_type": "stream",
          "name": "stdout",
          "text": [
            "Looking in indexes: https://pypi.org/simple, https://us-python.pkg.dev/colab-wheels/public/simple/\n",
            "Collecting einops\n",
            "  Downloading einops-0.6.0-py3-none-any.whl (41 kB)\n",
            "\u001b[2K     \u001b[90m━━━━━━━━━━━━━━━━━━━━━━━━━━━━━━━━━━━━━━━━\u001b[0m \u001b[32m41.6/41.6 KB\u001b[0m \u001b[31m2.7 MB/s\u001b[0m eta \u001b[36m0:00:00\u001b[0m\n",
            "\u001b[?25hInstalling collected packages: einops\n",
            "Successfully installed einops-0.6.0\n",
            "Looking in indexes: https://pypi.org/simple, https://us-python.pkg.dev/colab-wheels/public/simple/\n",
            "Requirement already satisfied: torchvision==0.11.1 in /usr/local/lib/python3.8/dist-packages (0.11.1)\n",
            "Requirement already satisfied: torch==1.10.0 in /usr/local/lib/python3.8/dist-packages (from torchvision==0.11.1) (1.10.0)\n",
            "Requirement already satisfied: pillow!=8.3.0,>=5.3.0 in /usr/local/lib/python3.8/dist-packages (from torchvision==0.11.1) (7.1.2)\n",
            "Requirement already satisfied: numpy in /usr/local/lib/python3.8/dist-packages (from torchvision==0.11.1) (1.21.6)\n",
            "Requirement already satisfied: typing-extensions in /usr/local/lib/python3.8/dist-packages (from torch==1.10.0->torchvision==0.11.1) (4.4.0)\n"
          ]
        }
      ],
      "source": [
        "import torch\n",
        "import numpy as np\n",
        "import matplotlib.pyplot as plt\n",
        "import torch.nn as nn\n",
        "import torch.backends.cudnn as cudnn\n",
        "import torch.nn.functional as F\n",
        "!pip install einops\n",
        "from einops import rearrange\n",
        "\n",
        "import torch.optim\n",
        "import torch.utils.data\n",
        "!pip install torchvision==0.11.1\n",
        "import torchvision.transforms as transforms\n",
        "import torchvision.datasets as datasets"
      ]
    },
    {
      "cell_type": "markdown",
      "source": [
        "# Datasets"
      ],
      "metadata": {
        "id": "SYOIypWK4U9f"
      }
    },
    {
      "cell_type": "code",
      "execution_count": null,
      "metadata": {
        "id": "Xme9idclKTlZ"
      },
      "outputs": [],
      "source": [
        "#from timm.models.layers import DropPath"
      ]
    },
    {
      "cell_type": "code",
      "execution_count": 2,
      "metadata": {
        "id": "xO0N7azqSKm0"
      },
      "outputs": [],
      "source": [
        "PATH=\"datasets\""
      ]
    },
    {
      "cell_type": "code",
      "execution_count": 3,
      "metadata": {
        "colab": {
          "base_uri": "https://localhost:8080/",
          "height": 84,
          "referenced_widgets": [
            "595e8255f262455c929ecb8598feed47",
            "32e1e61274f44268a40203574d920abf",
            "621c8e8eff054c088065786de4c3ad54",
            "2fd699f60d74407fb84f65e29fdbf6c4",
            "2513adb9d7434c0a98041a6a4c8f202e",
            "0e5193e00c2246208eaf3136e72d0f3c",
            "5e3db0dfc5c84ef88fc6d5289262875d",
            "6b46d230f2df4d44883cc73de26d92be",
            "e32684eb013b4cc488147c56534a9de3",
            "7db6513c290a428081e754768d1d7d69",
            "0b491a99936240e69ee57ab13d1d9e77"
          ]
        },
        "id": "57F29DW6SNR8",
        "outputId": "0d595fb3-cccd-40ef-f26b-985e688b6ab8"
      },
      "outputs": [
        {
          "output_type": "stream",
          "name": "stdout",
          "text": [
            "Downloading https://www.cs.toronto.edu/~kriz/cifar-10-python.tar.gz to datasets/cifar-10-python.tar.gz\n"
          ]
        },
        {
          "output_type": "display_data",
          "data": {
            "text/plain": [
              "  0%|          | 0/170498071 [00:00<?, ?it/s]"
            ],
            "application/vnd.jupyter.widget-view+json": {
              "version_major": 2,
              "version_minor": 0,
              "model_id": "595e8255f262455c929ecb8598feed47"
            }
          },
          "metadata": {}
        },
        {
          "output_type": "stream",
          "name": "stdout",
          "text": [
            "Extracting datasets/cifar-10-python.tar.gz to datasets\n"
          ]
        }
      ],
      "source": [
        "cuda = True\n",
        "batch_size = 64\n",
        "train_dataset = datasets.CIFAR10(PATH, train=True, download=True,\n",
        "    transform=transforms.Compose([\n",
        "        transforms.ToTensor (), # Transform the PIL image to a torch.Tensor\n",
        "        transforms.Normalize((0.491, 0.482, 0.447), (0.202, 0.199, 0.201)),\n",
        "    ]))\n",
        "\n",
        "train_loader = torch.utils.data.DataLoader(train_dataset,\n",
        "                        batch_size=batch_size, shuffle=True, pin_memory=cuda, num_workers=2)"
      ]
    },
    {
      "cell_type": "markdown",
      "source": [
        "# Model"
      ],
      "metadata": {
        "id": "boLFzq2Z4cfZ"
      }
    },
    {
      "cell_type": "code",
      "execution_count": 4,
      "metadata": {
        "id": "3dNBlrhESMTE"
      },
      "outputs": [],
      "source": [
        "def imgs_to_SoP(imgs):\n",
        "    shape = imgs.shape\n",
        "    height = shape[-2]\n",
        "    width = shape[-1]\n",
        "    batch = shape[0]\n",
        "    \n",
        "    ind_w = torch.arange(width)/(width-1)-0.5\n",
        "    ind_h = torch.arange(height)/(height-1)-0.5\n",
        "    ind = torch.stack(torch.meshgrid(ind_w,ind_h,indexing = 'ij'),dim = -1).reshape(2,height,width)\n",
        "    \n",
        "    batch_ind = ind.repeat(batch,1,1,1)\n",
        "    #flat_imgs = imgs.flatten(start_dim=len(shape)-2) #laisser en b c h w ?\n",
        "    \n",
        "    SoP = torch.cat((imgs,batch_ind),dim=1)\n",
        "    \n",
        "    return SoP"
      ]
    },
    {
      "cell_type": "code",
      "execution_count": 5,
      "metadata": {
        "colab": {
          "base_uri": "https://localhost:8080/"
        },
        "id": "zmOrbE3lKTla",
        "outputId": "e04e4b55-1375-495e-c316-2d535dd23c2d"
      },
      "outputs": [
        {
          "output_type": "execute_result",
          "data": {
            "text/plain": [
              "torch.Size([20, 2, 64, 32])"
            ]
          },
          "metadata": {},
          "execution_count": 5
        }
      ],
      "source": [
        "height = 64\n",
        "width = 32\n",
        "ind_w = torch.arange(width)/(width-1)-0.5\n",
        "ind_h = torch.arange(height)/(height-1)-0.5\n",
        "ind = torch.stack(torch.meshgrid(ind_w,ind_h,indexing = 'ij'),dim = -1).reshape(2,height,width)\n",
        "ind.repeat(20,1,1,1).shape\n"
      ]
    },
    {
      "cell_type": "code",
      "execution_count": 6,
      "metadata": {
        "colab": {
          "base_uri": "https://localhost:8080/"
        },
        "id": "6fIYWdFrTKeT",
        "outputId": "6c0e29d6-dbe2-48d5-efb9-7b324fdc673c"
      },
      "outputs": [
        {
          "output_type": "stream",
          "name": "stdout",
          "text": [
            "torch.Size([32, 3, 224, 122])\n",
            "torch.Size([32, 5, 224, 122])\n"
          ]
        }
      ],
      "source": [
        "#X,y = next(iter(train_loader))\n",
        "X = torch.randn(32,3,224,122)\n",
        "print(X.shape)\n",
        "print(imgs_to_SoP(X).shape)"
      ]
    },
    {
      "cell_type": "code",
      "source": [
        "class GroupNorm(nn.GroupNorm):\n",
        "    \"\"\"\n",
        "    Group Normalization with 1 group.\n",
        "    Input: tensor in shape [B, C, H, W]\n",
        "    \"\"\"\n",
        "    def __init__(self, num_channels, **kwargs):\n",
        "        super().__init__(1, num_channels, **kwargs)"
      ],
      "metadata": {
        "id": "Hp3KHgwT9PQo"
      },
      "execution_count": 7,
      "outputs": []
    },
    {
      "cell_type": "code",
      "execution_count": 8,
      "metadata": {
        "id": "0oxyFOcMYCBq"
      },
      "outputs": [],
      "source": [
        "class PointReducer(nn.Module):\n",
        "    def __init__(self, in_chan, out_chan, kernel_size=2, stride=2, norm_layer=None):\n",
        "        super().__init__()\n",
        "        self.conv2d = nn.Conv2d(in_chan, out_chan, kernel_size, stride)\n",
        "        self.norm = norm_layer(out_chan) if norm_layer else nn.Identity()\n",
        "\n",
        "    def forward(self,input):\n",
        "        out = self.conv2d(input)\n",
        "        out = self.norm(out)\n",
        "        return out"
      ]
    },
    {
      "cell_type": "code",
      "execution_count": 9,
      "metadata": {
        "id": "s9srBkQjKTlb"
      },
      "outputs": [],
      "source": [
        "def pairwise_cosine_sim(x1, x2):\n",
        "    x1_norm = F.normalize(x1, dim=-1) \n",
        "    x2_norm = F.normalize(x2, dim=-1)\n",
        "    \n",
        "    sim = x1_norm @ x2_norm.transpose(-2,-1) #to compute for each pair in the batch\n",
        "    \n",
        "    return sim"
      ]
    },
    {
      "cell_type": "code",
      "execution_count": 11,
      "metadata": {
        "id": "N46dU3RpKTlb"
      },
      "outputs": [],
      "source": [
        "class Cluster(nn.Module):\n",
        "    def __init__(self,in_channels,out_channels,heads,head_dim,proposal_w=2,proposal_h=2,fold_w=2,fold_h=2):\n",
        "        super().__init__()\n",
        "        \n",
        "        self.heads = heads\n",
        "        self.head_dim = head_dim\n",
        "        self.fold_w = fold_w\n",
        "        self.fold_h = fold_h\n",
        "        \n",
        "        self.fc1 = nn.Conv2d(in_channels,heads*head_dim,kernel_size = 1)\n",
        "            #heads*head_dim -> we place the heads in the batch later\n",
        "        self.fcv = nn.Conv2d(in_channels,heads*head_dim,kernel_size = 1)\n",
        "        self.fc2 = nn.Conv2d(heads*head_dim,out_channels,kernel_size = 1)\n",
        "        self.center_proposal = nn.AdaptiveAvgPool2d((proposal_w,proposal_h))\n",
        "        \n",
        "        self.alpha = nn.Parameter(torch.ones(1)) #initialisation bizarre\n",
        "        self.beta = nn.Parameter(torch.zeros(1)) #initialisation bizarre\n",
        "        \n",
        "    def forward(self,x):\n",
        "        \"\"\"\n",
        "        x : [b,c,h,w]\n",
        "        \"\"\"\n",
        "        _,_,h,w = x.shape \n",
        "        \n",
        "        val = self.fcv(x)\n",
        "        x = self.fc1(x)\n",
        "\n",
        "        # separating heads\n",
        "        x = rearrange(x, \"b (e c) h w -> (b e) c h w\", e=self.heads)\n",
        "        val = rearrange(val, \"b (e c) h w -> (b e) c h w\", e=self.heads) \n",
        "        \n",
        "        #splitting patches \n",
        "        if self.fold_w>1 and self.fold_h>1:\n",
        "            assert w%self.fold_w==0 and h%self.fold_h==0\n",
        "            x = rearrange(x, \"b c (f1 h) (f2 w) -> (b f1 f2) c h w\", f1=self.fold_h, f2=self.fold_w)\n",
        "            val = rearrange(val, \"b c (f1 h) (f2 w) -> (b f1 f2) c h w\", f1=self.fold_h, f2=self.fold_w)\n",
        "        _,_,h,w = x.shape\n",
        "        #computing cluster centers\n",
        "        cluster_centers = self.center_proposal(x) #(b,c,Cw,Ch)\n",
        "        center_values = rearrange(self.center_proposal(val) , 'b c h w -> b (h w) c') #(b,Cw*Ch,c) = (b,m,c)\n",
        "        \n",
        "        b,c,_,_ = cluster_centers.shape\n",
        "\n",
        "        #computing similarity\n",
        "        sim = torch.sigmoid(self.beta + self.alpha*pairwise_cosine_sim(cluster_centers.reshape(b,c,-1).permute(0,2,1), x.reshape(b,c,-1).permute(0,2,1))) #(b,Cw*Ch,h*w) = (b,m,n)\n",
        "        sim_max, sim_argmax = sim.max(dim = 1, keepdim = True)\n",
        "        \n",
        "        #assigning a cluster to each point\n",
        "        mask = torch.zeros_like(sim) #(b,m,n)\n",
        "        mask.scatter_(1, sim_argmax, 1.)\n",
        "        sim= sim*mask\n",
        "        \n",
        "        #computing aggregated feature\n",
        "        val = rearrange(val, 'b c h w -> b (h w) c')\n",
        "        out = ((val.unsqueeze(dim=1)*sim.unsqueeze(dim=-1)).sum(dim=2) + center_values)/(mask.sum(dim=-1,keepdim=True)+ 1)\n",
        "        \n",
        "        out = (out.unsqueeze(dim=2)*sim.unsqueeze(dim=-1)).sum(dim=1)\n",
        "        out = rearrange(out, \"b (h w) c -> b c h w\", h=h)\n",
        "        \n",
        "        #recovering splitted patches\n",
        "        if self.fold_w>1 and self.fold_h>1:\n",
        "            out = rearrange(out, \"(b f1 f2) c h w -> b c (f1 h) (f2 w)\", f1=self.fold_h, f2=self.fold_w)\n",
        "        \n",
        "        #regrouping heads\n",
        "        out = rearrange(out, \"(b e) c h w -> b (e c) h w\", e=self.heads)\n",
        "        out = self.fc2(out)\n",
        "\n",
        "        return out"
      ]
    },
    {
      "cell_type": "code",
      "execution_count": 12,
      "metadata": {
        "id": "0Wmb6oGDKTlb"
      },
      "outputs": [],
      "source": [
        "class MLP(nn.Module):\n",
        "    def __init__(self,in_channels,hidden_channels,out_channels,act,dropout=0):\n",
        "        super().__init__()\n",
        "        \n",
        "        layers = [nn.Conv2d(in_channels,hidden_channels,kernel_size=1),act(),\\\n",
        "                  nn.Conv2d(hidden_channels,out_channels,kernel_size=1),act()]\n",
        "        if dropout:\n",
        "            layers.append(nn.Dropout(dropout))\n",
        "        self.net = nn.Sequential(*layers)\n",
        "        \n",
        "    def forward(self,x):\n",
        "        out = self.net(x)\n",
        "        return out"
      ]
    },
    {
      "cell_type": "code",
      "execution_count": 13,
      "metadata": {
        "id": "juYvuvRVKTlb"
      },
      "outputs": [],
      "source": [
        "#add droppath ???\n",
        "class ClusterBlock(nn.Module):\n",
        "    \n",
        "    def __init__(self,in_channels,act=nn.GELU,mlp_ratio=4,dropout=0,proposal_w=2,proposal_h=2,fold_w=2,fold_h=2,heads=4,head_dim=16,norm_layer=GroupNorm):\n",
        "        super().__init__()\n",
        "        \n",
        "        #(in_channels,out_channels,heads,head_dim,proposal_w=2,proposal_h=2,fold_w=2,fold_h=2))\n",
        "        self.cluster = Cluster(in_channels,in_channels,heads,head_dim,proposal_w,proposal_h,fold_w,fold_h)\n",
        "        hidden_dim = int(mlp_ratio*in_channels)\n",
        "        self.mlp = MLP(in_channels,hidden_dim,in_channels,act,dropout=dropout)\n",
        "        self.norm1 = norm_layer(in_channels)\n",
        "        self.norm2 = norm_layer(in_channels)\n",
        "        \n",
        "    def forward(self,x):\n",
        "        x = x + self.cluster(self.norm1(x)) #skip conn\n",
        "        out = x + self.mlp(self.norm2(x)) #skip conn\n",
        "        return out"
      ]
    },
    {
      "cell_type": "code",
      "execution_count": 14,
      "metadata": {
        "id": "CmzaSO23KTlc"
      },
      "outputs": [],
      "source": [
        "class BasicBlock(nn.Module):\n",
        "    def __init__(self,in_channels,out_channels,norm_layer=GroupNorm):\n",
        "        super().__init__()\n",
        "        self.point_red = PointReducer(in_channels,out_channels)\n",
        "        self.cluster_b = ClusterBlock(out_channels,norm_layer=norm_layer)\n",
        "    \n",
        "    def forward(self,x):\n",
        "        x = self.point_red(x)\n",
        "        x = self.cluster_b(x)\n",
        "        return x"
      ]
    },
    {
      "cell_type": "code",
      "execution_count": 15,
      "metadata": {
        "id": "wSDd__2hSReU"
      },
      "outputs": [],
      "source": [
        "class Model(nn.Module):\n",
        "    def __init__(self,embedding_sizes,num_classes,norm_layer=GroupNorm):\n",
        "        super().__init__()\n",
        "        layers = []\n",
        "        in_channels = 5\n",
        "        for out_channels in embedding_sizes:\n",
        "            layers.append(BasicBlock(in_channels,out_channels,norm_layer=norm_layer))\n",
        "            in_channels = out_channels\n",
        "\n",
        "        self.feature_extractor = nn.Sequential(*layers)\n",
        "        self.clf = nn.Linear(embedding_sizes[-1],num_classes)\n",
        "        self.old_shape = None\n",
        "\n",
        "\n",
        "    def imgs_to_SoP(self,imgs):\n",
        "        \"\"\"\n",
        "        Transform a batch of images to a bacth of sets of points\n",
        "\n",
        "        imgs : torch.Tensor([batch,chan,height,width])\n",
        "        return : torch.Tensor([batch,chan+2,height*width])\n",
        "        \"\"\"\n",
        "        shape = imgs.shape\n",
        "        if self.old_shape != shape:\n",
        "            self.old_shape = shape\n",
        "            height = shape[-2]\n",
        "            width = shape[-1]\n",
        "            batch = shape[0]\n",
        "            \n",
        "            ind_w = torch.arange(width)/(width-1)-0.5\n",
        "            ind_h = torch.arange(height)/(height-1)-0.5\n",
        "            ind = torch.stack(torch.meshgrid(ind_w,ind_h,indexing = 'ij'),dim = -1).reshape(2,height,width)\n",
        "\n",
        "            self.batch_ind = ind.repeat(batch,1,1,1)\n",
        "        \n",
        "        device = imgs.device\n",
        "        #flat_imgs = imgs.flatten(start_dim=len(shape)-2)\n",
        "        SoP = torch.cat((imgs,self.batch_ind.to(device)),dim=1) #might need to clone\n",
        "        \n",
        "        return SoP\n",
        "\n",
        "    def forward(self,input):\n",
        "        SoP = self.imgs_to_SoP(input)\n",
        "        features = self.feature_extractor(SoP)\n",
        "        features = torch.mean(features, dim = (2,3))\n",
        "        yhat = self.clf(features)\n",
        "        return yhat"
      ]
    },
    {
      "cell_type": "markdown",
      "metadata": {
        "id": "B2rssAZLKTlc"
      },
      "source": [
        "# Tests"
      ]
    },
    {
      "cell_type": "code",
      "source": [
        "def main(model,n_epochs,device):\n",
        "    cuda = True\n",
        "    \n",
        "\n",
        "    batch_size = 64\n",
        "    train_dataset = datasets.CIFAR10(PATH, train=True, download=True,\n",
        "    transform=transforms.Compose([\n",
        "        transforms.ToTensor (), # Transform the PIL image to a torch.Tensor\n",
        "        transforms.Normalize((0.491, 0.482, 0.447), (0.202, 0.199, 0.201)),\n",
        "    ]))\n",
        "    train_loader = torch.utils.data.DataLoader(train_dataset,\n",
        "                        batch_size=batch_size, shuffle=True, pin_memory=cuda, num_workers=1)\n",
        "    \n",
        "    test_dataset = datasets.CIFAR10(PATH, train=False, download=True,\n",
        "    transform=transforms.Compose([\n",
        "        transforms.ToTensor (), # Transform the PIL image to a torch.Tensor\n",
        "        transforms.Normalize((0.491, 0.482, 0.447), (0.202, 0.199, 0.201)),\n",
        "    ]))\n",
        "    test_loader = torch.utils.data.DataLoader(train_dataset,\n",
        "                        batch_size=batch_size, shuffle=True, pin_memory=cuda, num_workers=1)\n",
        "    \n",
        "\n",
        "    Loss = nn.CrossEntropyLoss()\n",
        "    optim = torch.optim.Adam(model.parameters())\n",
        "    \n",
        "    List_Loss = []\n",
        "\n",
        "    for epoch in range(n_epochs):\n",
        "        for X,y in train_loader:\n",
        "            X,y = X.to(device), y.to(device)\n",
        "            optim.zero_grad()\n",
        "            \n",
        "            yhat = model(X)\n",
        "\n",
        "            l = Loss(yhat,y)\n",
        "            l.backward()\n",
        "\n",
        "            optim.step()\n",
        "        \n",
        "        losses = []\n",
        "        acc = 0\n",
        "        total = 0\n",
        "        for X,y in test_loader:\n",
        "            X,y = X.to(device), y.to(device)\n",
        "            yhat = model(X)\n",
        "\n",
        "            y_pred = torch.argmax(yhat,dim = 1)\n",
        "            acc += torch.sum(y==y_pred)\n",
        "            total += len(y)\n",
        "            l = Loss(yhat,y)\n",
        "            losses.append(l.detach().cpu())\n",
        "        List_Loss.append(torch.mean(torch.stack(losses)).detach().cpu())\n",
        "        print(f\"epoch n°{epoch} : loss = {List_Loss[-1]}, acc = {acc.item()/total}\")\n",
        "    \n",
        "    \n",
        "    plt.plot(range(n_epochs),List_Loss)\n"
      ],
      "metadata": {
        "id": "bSpU6c16MIDK"
      },
      "execution_count": 16,
      "outputs": []
    },
    {
      "cell_type": "code",
      "source": [
        "# With all the normalizations\n",
        "embedding_sizes = [16,32,64,128]\n",
        "num_classes = 10\n",
        "device = 'cuda' #if torch.cuda.is_available() else 'cpu'\n",
        "model_cifar10 = Model(embedding_sizes,num_classes).to(device)\n",
        "main(model_cifar10,50,device)"
      ],
      "metadata": {
        "colab": {
          "base_uri": "https://localhost:8080/",
          "height": 1000
        },
        "id": "vJR3H7OlEQqT",
        "outputId": "ba7ae4d7-c397-4c46-c1cf-bd61ad72abd2"
      },
      "execution_count": 17,
      "outputs": [
        {
          "output_type": "stream",
          "name": "stdout",
          "text": [
            "Files already downloaded and verified\n",
            "Files already downloaded and verified\n",
            "epoch n°0 : loss = 1.3954620361328125, acc = 0.48794\n",
            "epoch n°1 : loss = 1.1895689964294434, acc = 0.57316\n",
            "epoch n°2 : loss = 1.0527361631393433, acc = 0.62508\n",
            "epoch n°3 : loss = 0.9220096468925476, acc = 0.67028\n",
            "epoch n°4 : loss = 0.888785183429718, acc = 0.6811\n",
            "epoch n°5 : loss = 0.7547158002853394, acc = 0.73682\n",
            "epoch n°6 : loss = 0.7082855105400085, acc = 0.7498\n",
            "epoch n°7 : loss = 0.6572535634040833, acc = 0.76322\n",
            "epoch n°8 : loss = 0.5713779926300049, acc = 0.80228\n",
            "epoch n°9 : loss = 0.5500487685203552, acc = 0.80452\n",
            "epoch n°10 : loss = 0.47370675206184387, acc = 0.83406\n",
            "epoch n°11 : loss = 0.42548561096191406, acc = 0.85392\n",
            "epoch n°12 : loss = 0.3997764587402344, acc = 0.8572\n",
            "epoch n°13 : loss = 0.3359414041042328, acc = 0.88478\n",
            "epoch n°14 : loss = 0.3005247712135315, acc = 0.8966\n",
            "epoch n°15 : loss = 0.281771719455719, acc = 0.90074\n",
            "epoch n°16 : loss = 0.2262660264968872, acc = 0.9218\n",
            "epoch n°17 : loss = 0.20828863978385925, acc = 0.92758\n",
            "epoch n°18 : loss = 0.19419841468334198, acc = 0.93332\n",
            "epoch n°19 : loss = 0.2308235913515091, acc = 0.91678\n",
            "epoch n°20 : loss = 0.19798161089420319, acc = 0.9288\n",
            "epoch n°21 : loss = 0.20077061653137207, acc = 0.9256\n",
            "epoch n°22 : loss = 0.16263717412948608, acc = 0.94126\n",
            "epoch n°23 : loss = 0.14022424817085266, acc = 0.9491\n",
            "epoch n°24 : loss = 0.1687401533126831, acc = 0.93806\n",
            "epoch n°25 : loss = 0.11693538725376129, acc = 0.9594\n",
            "epoch n°26 : loss = 0.12324513494968414, acc = 0.95578\n",
            "epoch n°27 : loss = 0.1306992620229721, acc = 0.95218\n",
            "epoch n°28 : loss = 0.1285121589899063, acc = 0.9541\n",
            "epoch n°29 : loss = 0.14748002588748932, acc = 0.94666\n",
            "epoch n°30 : loss = 0.12403561174869537, acc = 0.95546\n",
            "epoch n°31 : loss = 0.1547587364912033, acc = 0.94478\n",
            "epoch n°32 : loss = 0.11858043074607849, acc = 0.95782\n",
            "epoch n°33 : loss = 0.13800927996635437, acc = 0.94966\n",
            "epoch n°34 : loss = 0.12630827724933624, acc = 0.95378\n",
            "epoch n°35 : loss = 0.11588636785745621, acc = 0.95908\n",
            "epoch n°36 : loss = 0.08370612561702728, acc = 0.97034\n",
            "epoch n°37 : loss = 0.1017102599143982, acc = 0.9638\n",
            "epoch n°38 : loss = 0.10728054493665695, acc = 0.96222\n",
            "epoch n°39 : loss = 0.09077188372612, acc = 0.96714\n",
            "epoch n°40 : loss = 0.09155721962451935, acc = 0.96732\n",
            "epoch n°41 : loss = 0.09486962854862213, acc = 0.9667\n",
            "epoch n°42 : loss = 0.08686928451061249, acc = 0.96916\n",
            "epoch n°43 : loss = 0.09070148319005966, acc = 0.9686\n",
            "epoch n°44 : loss = 0.09385000914335251, acc = 0.96638\n",
            "epoch n°45 : loss = 0.09190620481967926, acc = 0.96756\n",
            "epoch n°46 : loss = 0.08882635831832886, acc = 0.96862\n",
            "epoch n°47 : loss = 0.07275547087192535, acc = 0.97436\n",
            "epoch n°48 : loss = 0.0848613753914833, acc = 0.97044\n",
            "epoch n°49 : loss = 0.1022048145532608, acc = 0.9653\n"
          ]
        },
        {
          "output_type": "display_data",
          "data": {
            "text/plain": [
              "<Figure size 432x288 with 1 Axes>"
            ],
            "image/png": "[encoded data removed]"
          },
          "metadata": {
            "needs_background": "light"
          }
        }
      ]
    },
    {
      "cell_type": "code",
      "source": [
        "# For reference, results without normalizations\n",
        "embedding_sizes = [16,32,64,128]\n",
        "num_classes = 10\n",
        "device = 'cuda' #if torch.cuda.is_available() else 'cpu'\n",
        "model_cifar10 = Model(embedding_sizes,num_classes).to(device)\n",
        "main(model_cifar10,50,device)"
      ],
      "metadata": {
        "colab": {
          "base_uri": "https://localhost:8080/",
          "height": 1000
        },
        "id": "KXDoiQUxjcVa",
        "outputId": "91ac5d7f-ded4-42f7-8c3c-fad55a2a728f"
      },
      "execution_count": null,
      "outputs": [
        {
          "output_type": "stream",
          "name": "stdout",
          "text": [
            "Files already downloaded and verified\n",
            "Files already downloaded and verified\n",
            "epoch n°0 : loss = 1.496617317199707, acc = 0.45328\n",
            "epoch n°1 : loss = 1.3359360694885254, acc = 0.5136\n",
            "epoch n°2 : loss = 1.2094942331314087, acc = 0.56622\n",
            "epoch n°3 : loss = 1.072623372077942, acc = 0.61128\n",
            "epoch n°4 : loss = 0.952826201915741, acc = 0.66354\n",
            "epoch n°5 : loss = 0.8710325360298157, acc = 0.6927\n",
            "epoch n°6 : loss = 0.757802426815033, acc = 0.73234\n",
            "epoch n°7 : loss = 0.7199822664260864, acc = 0.74788\n",
            "epoch n°8 : loss = 0.6737788915634155, acc = 0.76284\n",
            "epoch n°9 : loss = 0.6029804348945618, acc = 0.78646\n",
            "epoch n°10 : loss = 0.5443611145019531, acc = 0.80844\n",
            "epoch n°11 : loss = 0.4767240583896637, acc = 0.8328\n",
            "epoch n°12 : loss = 0.46477922797203064, acc = 0.83362\n",
            "epoch n°13 : loss = 0.397295206785202, acc = 0.8618\n",
            "epoch n°14 : loss = 0.34806203842163086, acc = 0.87854\n",
            "epoch n°15 : loss = 0.3408178985118866, acc = 0.8822\n",
            "epoch n°16 : loss = 0.27452266216278076, acc = 0.9034\n",
            "epoch n°17 : loss = 0.27120286226272583, acc = 0.90374\n",
            "epoch n°18 : loss = 0.23106956481933594, acc = 0.9194\n",
            "epoch n°19 : loss = 0.2516395151615143, acc = 0.9093\n",
            "epoch n°20 : loss = 0.2135629653930664, acc = 0.92386\n",
            "epoch n°21 : loss = 0.17687980830669403, acc = 0.93632\n",
            "epoch n°22 : loss = 0.21383339166641235, acc = 0.92304\n",
            "epoch n°23 : loss = 0.2169339656829834, acc = 0.92228\n",
            "epoch n°24 : loss = 0.1989937126636505, acc = 0.92724\n",
            "epoch n°25 : loss = 0.1606968343257904, acc = 0.94276\n",
            "epoch n°26 : loss = 0.17968496680259705, acc = 0.9351\n",
            "epoch n°27 : loss = 0.14804671704769135, acc = 0.94688\n",
            "epoch n°28 : loss = 0.13434427976608276, acc = 0.95198\n",
            "epoch n°29 : loss = 0.15708933770656586, acc = 0.94284\n",
            "epoch n°30 : loss = 0.14704789221286774, acc = 0.94762\n",
            "epoch n°31 : loss = 0.14624595642089844, acc = 0.94768\n",
            "epoch n°32 : loss = 0.1538664549589157, acc = 0.94516\n",
            "epoch n°33 : loss = 0.12718136608600616, acc = 0.95488\n",
            "epoch n°34 : loss = 0.1203732118010521, acc = 0.95664\n",
            "epoch n°35 : loss = 0.154710590839386, acc = 0.94734\n",
            "epoch n°36 : loss = 0.12396256625652313, acc = 0.95608\n",
            "epoch n°37 : loss = 0.13709241151809692, acc = 0.95146\n",
            "epoch n°38 : loss = 0.13187991082668304, acc = 0.95364\n",
            "epoch n°39 : loss = 0.1382061392068863, acc = 0.95114\n",
            "epoch n°40 : loss = 0.12468033283948898, acc = 0.95674\n",
            "epoch n°41 : loss = 0.12908926606178284, acc = 0.95452\n",
            "epoch n°42 : loss = 0.10537680983543396, acc = 0.96256\n",
            "epoch n°43 : loss = 0.12289809435606003, acc = 0.9563\n",
            "epoch n°44 : loss = 0.11271136999130249, acc = 0.9596\n",
            "epoch n°45 : loss = 0.1508050262928009, acc = 0.94782\n",
            "epoch n°46 : loss = 0.08574569970369339, acc = 0.9699\n",
            "epoch n°47 : loss = 0.11707177758216858, acc = 0.95876\n",
            "epoch n°48 : loss = 0.1149565577507019, acc = 0.95984\n",
            "epoch n°49 : loss = 0.10370443016290665, acc = 0.96386\n"
          ]
        },
        {
          "output_type": "display_data",
          "data": {
            "text/plain": [
              "<Figure size 432x288 with 1 Axes>"
            ],
            "image/png": "[encoded data removed]"
          },
          "metadata": {
            "needs_background": "light"
          }
        }
      ]
    },
    {
      "cell_type": "code",
      "execution_count": null,
      "metadata": {
        "id": "9SGQubFZKTld"
      },
      "outputs": [],
      "source": [
        "pr1 = PointReducer(5,16)\n",
        "cb1 = ClusterBlock(16)\n",
        "\n",
        "pr2 = PointReducer(16,32)\n",
        "cb2 = ClusterBlock(32)\n",
        "\n",
        "pr3 = PointReducer(32,64)\n",
        "cb3 = ClusterBlock(64)\n",
        "\n",
        "pr4 = PointReducer(64,128)\n",
        "cb4 = ClusterBlock(128)\n",
        "\n",
        "clf = nn.Linear(128,10)"
      ]
    },
    {
      "cell_type": "code",
      "execution_count": null,
      "metadata": {
        "id": "d1ZPJxXaKTld",
        "outputId": "d624ddbd-e971-418c-fd41-d78ac0f8c7ed"
      },
      "outputs": [
        {
          "data": {
            "text/plain": [
              "torch.Size([32, 5, 64, 128])"
            ]
          },
          "execution_count": 266,
          "metadata": {},
          "output_type": "execute_result"
        }
      ],
      "source": [
        "X = torch.randn(32,3,64,128)\n",
        "X = imgs_to_SoP(X)\n",
        "X.shape"
      ]
    },
    {
      "cell_type": "code",
      "execution_count": null,
      "metadata": {
        "id": "93LGmIeVKTld",
        "outputId": "f0a19554-8e19-408d-9ca3-e3cd9f3d6988"
      },
      "outputs": [
        {
          "name": "stdout",
          "output_type": "stream",
          "text": [
            "torch.Size([32, 16, 32, 64])\n",
            "torch.Size([32, 16, 32, 64])\n"
          ]
        }
      ],
      "source": [
        "X = pr1(X)\n",
        "print(X.shape)\n",
        "X = cb1(X)\n",
        "print(X.shape)"
      ]
    },
    {
      "cell_type": "code",
      "execution_count": null,
      "metadata": {
        "id": "9QY4SN-NKTld",
        "outputId": "b9f56bc6-4b0a-44ae-d40a-1d994c0bd844"
      },
      "outputs": [
        {
          "name": "stdout",
          "output_type": "stream",
          "text": [
            "torch.Size([32, 32, 16, 32])\n",
            "torch.Size([32, 32, 16, 32])\n"
          ]
        }
      ],
      "source": [
        "X = pr2(X)\n",
        "print(X.shape)\n",
        "X = cb2(X)\n",
        "print(X.shape)"
      ]
    },
    {
      "cell_type": "code",
      "execution_count": null,
      "metadata": {
        "id": "gvlf8LdwKTle",
        "outputId": "9f7ed855-222c-4713-8da5-f3bfa94c30da"
      },
      "outputs": [
        {
          "name": "stdout",
          "output_type": "stream",
          "text": [
            "torch.Size([32, 64, 8, 16])\n",
            "torch.Size([32, 64, 8, 16])\n"
          ]
        }
      ],
      "source": [
        "X = pr3(X)\n",
        "print(X.shape)\n",
        "X = cb3(X)\n",
        "print(X.shape)"
      ]
    },
    {
      "cell_type": "code",
      "execution_count": null,
      "metadata": {
        "id": "OiitkEDxKTle",
        "outputId": "08dc8049-30fd-483f-dc3b-ad41310bc105"
      },
      "outputs": [
        {
          "name": "stdout",
          "output_type": "stream",
          "text": [
            "torch.Size([32, 128, 4, 8])\n",
            "torch.Size([32, 128, 4, 8])\n"
          ]
        }
      ],
      "source": [
        "X = pr4(X)\n",
        "print(X.shape)\n",
        "X = cb4(X)\n",
        "print(X.shape)"
      ]
    },
    {
      "cell_type": "code",
      "execution_count": null,
      "metadata": {
        "id": "KYW4CdeaKTle",
        "outputId": "e6db76c5-3fcd-4943-ecd5-1847d9eff6c4"
      },
      "outputs": [
        {
          "data": {
            "text/plain": [
              "torch.Size([32, 128])"
            ]
          },
          "execution_count": 271,
          "metadata": {},
          "output_type": "execute_result"
        }
      ],
      "source": [
        "X = torch.mean(X, dim = (2,3))\n",
        "X.shape"
      ]
    },
    {
      "cell_type": "code",
      "execution_count": null,
      "metadata": {
        "id": "V82TmPlmKTle",
        "outputId": "c3ced541-b535-4f33-8287-b130129e76e4"
      },
      "outputs": [
        {
          "data": {
            "text/plain": [
              "torch.Size([32, 10])"
            ]
          },
          "execution_count": 272,
          "metadata": {},
          "output_type": "execute_result"
        }
      ],
      "source": [
        "y = clf(X)\n",
        "y.shape"
      ]
    },
    {
      "cell_type": "markdown",
      "metadata": {
        "id": "00iYQMxeKTle"
      },
      "source": [
        "# Tests Basic Blocks"
      ]
    },
    {
      "cell_type": "code",
      "execution_count": null,
      "metadata": {
        "id": "lGHpNqyLKTle"
      },
      "outputs": [],
      "source": [
        "b1 = BasicBlock(5,16)\n",
        "b2 = BasicBlock(16,32)\n",
        "b3 = BasicBlock(32,64)\n",
        "b4 = BasicBlock(64,128)\n",
        "clf = nn.Linear(128,10)"
      ]
    },
    {
      "cell_type": "code",
      "execution_count": null,
      "metadata": {
        "id": "s7E9XtrFKTlf",
        "outputId": "91e3e51b-c199-402e-b1e1-76219242cc4a"
      },
      "outputs": [
        {
          "name": "stdout",
          "output_type": "stream",
          "text": [
            "torch.Size([32, 10])\n"
          ]
        }
      ],
      "source": [
        "X = torch.randn(32,3,64,128)\n",
        "X = imgs_to_SoP(X)\n",
        "\n",
        "X = b1(X)\n",
        "X = b2(X)\n",
        "X = b3(X)\n",
        "X = b4(X)\n",
        "\n",
        "X = torch.mean(X, dim = (2,3))\n",
        "\n",
        "y = clf(X)\n",
        "print(y.shape)"
      ]
    },
    {
      "cell_type": "code",
      "execution_count": null,
      "metadata": {
        "id": "G4KmqKNHKTlf"
      },
      "outputs": [],
      "source": []
    },
    {
      "cell_type": "code",
      "execution_count": null,
      "metadata": {
        "id": "RIwaiyhgKTlf"
      },
      "outputs": [],
      "source": []
    }
  ],
  "metadata": {
    "colab": {
      "provenance": []
    },
    "kernelspec": {
      "display_name": "Python 3 (ipykernel)",
      "language": "python",
      "name": "python3"
    },
    "language_info": {
      "codemirror_mode": {
        "name": "ipython",
        "version": 3
      },
      "file_extension": ".py",
      "mimetype": "text/x-python",
      "name": "python",
      "nbconvert_exporter": "python",
      "pygments_lexer": "ipython3",
      "version": "3.10.2"
    },
    "accelerator": "GPU",
    "gpuClass": "standard",
    "widgets": {
      "application/vnd.jupyter.widget-state+json": {
        "595e8255f262455c929ecb8598feed47": {
          "model_module": "@jupyter-widgets/controls",
          "model_name": "HBoxModel",
          "model_module_version": "1.5.0",
          "state": {
            "_dom_classes": [],
            "_model_module": "@jupyter-widgets/controls",
            "_model_module_version": "1.5.0",
            "_model_name": "HBoxModel",
            "_view_count": null,
            "_view_module": "@jupyter-widgets/controls",
            "_view_module_version": "1.5.0",
            "_view_name": "HBoxView",
            "box_style": "",
            "children": [
              "IPY_MODEL_32e1e61274f44268a40203574d920abf",
              "IPY_MODEL_621c8e8eff054c088065786de4c3ad54",
              "IPY_MODEL_2fd699f60d74407fb84f65e29fdbf6c4"
            ],
            "layout": "IPY_MODEL_2513adb9d7434c0a98041a6a4c8f202e"
          }
        },
        "32e1e61274f44268a40203574d920abf": {
          "model_module": "@jupyter-widgets/controls",
          "model_name": "HTMLModel",
          "model_module_version": "1.5.0",
          "state": {
            "_dom_classes": [],
            "_model_module": "@jupyter-widgets/controls",
            "_model_module_version": "1.5.0",
            "_model_name": "HTMLModel",
            "_view_count": null,
            "_view_module": "@jupyter-widgets/controls",
            "_view_module_version": "1.5.0",
            "_view_name": "HTMLView",
            "description": "",
            "description_tooltip": null,
            "layout": "IPY_MODEL_0e5193e00c2246208eaf3136e72d0f3c",
            "placeholder": "​",
            "style": "IPY_MODEL_5e3db0dfc5c84ef88fc6d5289262875d",
            "value": ""
          }
        },
        "621c8e8eff054c088065786de4c3ad54": {
          "model_module": "@jupyter-widgets/controls",
          "model_name": "FloatProgressModel",
          "model_module_version": "1.5.0",
          "state": {
            "_dom_classes": [],
            "_model_module": "@jupyter-widgets/controls",
            "_model_module_version": "1.5.0",
            "_model_name": "FloatProgressModel",
            "_view_count": null,
            "_view_module": "@jupyter-widgets/controls",
            "_view_module_version": "1.5.0",
            "_view_name": "ProgressView",
            "bar_style": "success",
            "description": "",
            "description_tooltip": null,
            "layout": "IPY_MODEL_6b46d230f2df4d44883cc73de26d92be",
            "max": 170498071,
            "min": 0,
            "orientation": "horizontal",
            "style": "IPY_MODEL_e32684eb013b4cc488147c56534a9de3",
            "value": 170498071
          }
        },
        "2fd699f60d74407fb84f65e29fdbf6c4": {
          "model_module": "@jupyter-widgets/controls",
          "model_name": "HTMLModel",
          "model_module_version": "1.5.0",
          "state": {
            "_dom_classes": [],
            "_model_module": "@jupyter-widgets/controls",
            "_model_module_version": "1.5.0",
            "_model_name": "HTMLModel",
            "_view_count": null,
            "_view_module": "@jupyter-widgets/controls",
            "_view_module_version": "1.5.0",
            "_view_name": "HTMLView",
            "description": "",
            "description_tooltip": null,
            "layout": "IPY_MODEL_7db6513c290a428081e754768d1d7d69",
            "placeholder": "​",
            "style": "IPY_MODEL_0b491a99936240e69ee57ab13d1d9e77",
            "value": " 170499072/? [00:06&lt;00:00, 29262153.18it/s]"
          }
        },
        "2513adb9d7434c0a98041a6a4c8f202e": {
          "model_module": "@jupyter-widgets/base",
          "model_name": "LayoutModel",
          "model_module_version": "1.2.0",
          "state": {
            "_model_module": "@jupyter-widgets/base",
            "_model_module_version": "1.2.0",
            "_model_name": "LayoutModel",
            "_view_count": null,
            "_view_module": "@jupyter-widgets/base",
            "_view_module_version": "1.2.0",
            "_view_name": "LayoutView",
            "align_content": null,
            "align_items": null,
            "align_self": null,
            "border": null,
            "bottom": null,
            "display": null,
            "flex": null,
            "flex_flow": null,
            "grid_area": null,
            "grid_auto_columns": null,
            "grid_auto_flow": null,
            "grid_auto_rows": null,
            "grid_column": null,
            "grid_gap": null,
            "grid_row": null,
            "grid_template_areas": null,
            "grid_template_columns": null,
            "grid_template_rows": null,
            "height": null,
            "justify_content": null,
            "justify_items": null,
            "left": null,
            "margin": null,
            "max_height": null,
            "max_width": null,
            "min_height": null,
            "min_width": null,
            "object_fit": null,
            "object_position": null,
            "order": null,
            "overflow": null,
            "overflow_x": null,
            "overflow_y": null,
            "padding": null,
            "right": null,
            "top": null,
            "visibility": null,
            "width": null
          }
        },
        "0e5193e00c2246208eaf3136e72d0f3c": {
          "model_module": "@jupyter-widgets/base",
          "model_name": "LayoutModel",
          "model_module_version": "1.2.0",
          "state": {
            "_model_module": "@jupyter-widgets/base",
            "_model_module_version": "1.2.0",
            "_model_name": "LayoutModel",
            "_view_count": null,
            "_view_module": "@jupyter-widgets/base",
            "_view_module_version": "1.2.0",
            "_view_name": "LayoutView",
            "align_content": null,
            "align_items": null,
            "align_self": null,
            "border": null,
            "bottom": null,
            "display": null,
            "flex": null,
            "flex_flow": null,
            "grid_area": null,
            "grid_auto_columns": null,
            "grid_auto_flow": null,
            "grid_auto_rows": null,
            "grid_column": null,
            "grid_gap": null,
            "grid_row": null,
            "grid_template_areas": null,
            "grid_template_columns": null,
            "grid_template_rows": null,
            "height": null,
            "justify_content": null,
            "justify_items": null,
            "left": null,
            "margin": null,
            "max_height": null,
            "max_width": null,
            "min_height": null,
            "min_width": null,
            "object_fit": null,
            "object_position": null,
            "order": null,
            "overflow": null,
            "overflow_x": null,
            "overflow_y": null,
            "padding": null,
            "right": null,
            "top": null,
            "visibility": null,
            "width": null
          }
        },
        "5e3db0dfc5c84ef88fc6d5289262875d": {
          "model_module": "@jupyter-widgets/controls",
          "model_name": "DescriptionStyleModel",
          "model_module_version": "1.5.0",
          "state": {
            "_model_module": "@jupyter-widgets/controls",
            "_model_module_version": "1.5.0",
            "_model_name": "DescriptionStyleModel",
            "_view_count": null,
            "_view_module": "@jupyter-widgets/base",
            "_view_module_version": "1.2.0",
            "_view_name": "StyleView",
            "description_width": ""
          }
        },
        "6b46d230f2df4d44883cc73de26d92be": {
          "model_module": "@jupyter-widgets/base",
          "model_name": "LayoutModel",
          "model_module_version": "1.2.0",
          "state": {
            "_model_module": "@jupyter-widgets/base",
            "_model_module_version": "1.2.0",
            "_model_name": "LayoutModel",
            "_view_count": null,
            "_view_module": "@jupyter-widgets/base",
            "_view_module_version": "1.2.0",
            "_view_name": "LayoutView",
            "align_content": null,
            "align_items": null,
            "align_self": null,
            "border": null,
            "bottom": null,
            "display": null,
            "flex": null,
            "flex_flow": null,
            "grid_area": null,
            "grid_auto_columns": null,
            "grid_auto_flow": null,
            "grid_auto_rows": null,
            "grid_column": null,
            "grid_gap": null,
            "grid_row": null,
            "grid_template_areas": null,
            "grid_template_columns": null,
            "grid_template_rows": null,
            "height": null,
            "justify_content": null,
            "justify_items": null,
            "left": null,
            "margin": null,
            "max_height": null,
            "max_width": null,
            "min_height": null,
            "min_width": null,
            "object_fit": null,
            "object_position": null,
            "order": null,
            "overflow": null,
            "overflow_x": null,
            "overflow_y": null,
            "padding": null,
            "right": null,
            "top": null,
            "visibility": null,
            "width": null
          }
        },
        "e32684eb013b4cc488147c56534a9de3": {
          "model_module": "@jupyter-widgets/controls",
          "model_name": "ProgressStyleModel",
          "model_module_version": "1.5.0",
          "state": {
            "_model_module": "@jupyter-widgets/controls",
            "_model_module_version": "1.5.0",
            "_model_name": "ProgressStyleModel",
            "_view_count": null,
            "_view_module": "@jupyter-widgets/base",
            "_view_module_version": "1.2.0",
            "_view_name": "StyleView",
            "bar_color": null,
            "description_width": ""
          }
        },
        "7db6513c290a428081e754768d1d7d69": {
          "model_module": "@jupyter-widgets/base",
          "model_name": "LayoutModel",
          "model_module_version": "1.2.0",
          "state": {
            "_model_module": "@jupyter-widgets/base",
            "_model_module_version": "1.2.0",
            "_model_name": "LayoutModel",
            "_view_count": null,
            "_view_module": "@jupyter-widgets/base",
            "_view_module_version": "1.2.0",
            "_view_name": "LayoutView",
            "align_content": null,
            "align_items": null,
            "align_self": null,
            "border": null,
            "bottom": null,
            "display": null,
            "flex": null,
            "flex_flow": null,
            "grid_area": null,
            "grid_auto_columns": null,
            "grid_auto_flow": null,
            "grid_auto_rows": null,
            "grid_column": null,
            "grid_gap": null,
            "grid_row": null,
            "grid_template_areas": null,
            "grid_template_columns": null,
            "grid_template_rows": null,
            "height": null,
            "justify_content": null,
            "justify_items": null,
            "left": null,
            "margin": null,
            "max_height": null,
            "max_width": null,
            "min_height": null,
            "min_width": null,
            "object_fit": null,
            "object_position": null,
            "order": null,
            "overflow": null,
            "overflow_x": null,
            "overflow_y": null,
            "padding": null,
            "right": null,
            "top": null,
            "visibility": null,
            "width": null
          }
        },
        "0b491a99936240e69ee57ab13d1d9e77": {
          "model_module": "@jupyter-widgets/controls",
          "model_name": "DescriptionStyleModel",
          "model_module_version": "1.5.0",
          "state": {
            "_model_module": "@jupyter-widgets/controls",
            "_model_module_version": "1.5.0",
            "_model_name": "DescriptionStyleModel",
            "_view_count": null,
            "_view_module": "@jupyter-widgets/base",
            "_view_module_version": "1.2.0",
            "_view_name": "StyleView",
            "description_width": ""
          }
        }
      }
    }
  },
  "nbformat": 4,
  "nbformat_minor": 0
}